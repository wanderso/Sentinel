{
 "cells": [
  {
   "cell_type": "code",
   "execution_count": null,
   "metadata": {},
   "outputs": [],
   "source": [
    "from Sentinel.Core.world import World, Environment\n",
    "from Sentinel.Core.character import Minion, Lieutenant\n",
    "from Sentinel.Core.dice import Dice\n",
    "from Sentinel.Core.objective import Objective, Challenge\n",
    "\n",
    "new_world = World()\n",
    "new_world.set_scene_tracker(2, 4, 2)\n",
    "\n",
    "ct = new_world.get_character_tracker()\n",
    "\n",
    "ct.create(\"Minion d6 Combat Network Teuer\")\n",
    "ct.create(\"Minion 8 Silens Combat Drone\")\n",
    "\n",
    "c4 = Lieutenant(\"Iron Saint\", Dice(8))\n",
    "\n",
    "ct.add_entity(c3)\n",
    "ct.add_entity(c4)\n",
    "\n",
    "ct.reset_turn()\n",
    "\n",
    "env3 = Environment(\"Michelle's Gymnasium\")\n",
    "env3.add_trait(\"Please Keep Floors Clean\", 6, context={\"description\":\"Michelle's gymnasium is distressingly clean for something so viscerally visceral. Sweat is constantly mopped up, blood is erased in moments, and there are cleaning supplies stashed in every closet.\"})\n",
    "env3.add_trait(\"Fights Happen Anywhere...\", 6, context={\"description\":\"Michelle believes strongly that a metahuman combatant needs to be prepared for any place, any weather, and any situation. Tools to help her simulate these environments fill half the gymnasium.\"})\n",
    "env3.add_trait(\"...But Are Won Here\", 6, context={\"description\":\"In the end, one-on-one, there's not much you can do about someone who has fifty pounds on you and knows how to use them. That's why the other half of the gym is devoted to traditional (and expensive) fitness equipment specced for metahumans.\"})\n",
    "env3.add_trait(\"Terror Is Non-Negotiable\", 8, context={\"description\":\"Michelle Angelmark is acutely aware that at any time, she could kill any one person in the room with her. She is also acutely aware that the kids she has to teach aren't prepared to be in the room with someone who can. Thus, she plays up her terrifying murderous maid aspects to get them used to the idea.\"})\n",
    "\n",
    "p1 = Challenge(1, \"Wait for Alicia to come up with a plan\")\n",
    "o1 = Objective(\"Take Alesandro Karras into custody\", [p1], True)\n",
    "\n",
    "p2 = Challenge(3, \"Clues obtained\")\n",
    "o2 = Objective(\"Track the Warlord to his hideout\", [p2], True)\n",
    "\n",
    "p2+1\n",
    "\n",
    "p3 = Challenge(2, \"Obtain dimensional coordinates for SHOCKER base\")\n",
    "o3 = Objective(\"Find Baroness Kilgrave\", [p3], False)\n",
    "\n",
    "p4 = Challenge(1, \"Open the shutters\")\n",
    "p5 = Challenge(1, \"Deactivate the jamming field\")\n",
    "o4 = Objective(\"Get access to Alesandra Karras' home\", [p5, p4], True)\n",
    "\n",
    "p4+1\n",
    "p5+1\n",
    "\n",
    "alt_world = World()\n",
    "\n",
    "alt_world.add_objective(o1)\n",
    "alt_world.add_objective(o2)\n",
    "alt_world.add_objective(o3)\n",
    "alt_world.add_objective(o4)\n",
    "\n",
    "alt_world.set_environment(env)"
   ]
  },
  {
   "cell_type": "code",
   "execution_count": 1,
   "metadata": {},
   "outputs": [],
   "source": [
    "from Sentinel.Core.world import World, Environment\n",
    "from Sentinel.Core.character import Minion, Lieutenant\n",
    "from Sentinel.Core.dice import Dice\n",
    "from Sentinel.Core.objective import Objective, Challenge\n",
    "\n",
    "new_world = World()\n",
    "new_world.set_scene_tracker(2, 4, 2)\n",
    "\n",
    "ct = new_world.get_character_tracker()\n",
    "\n",
    "ct.create(\"Minion d6 Radiant Knight Roan\")\n",
    "ct.create(\"Minion d6 Luis Castille\")\n",
    "ct.create(\"Minion d6 Cerulean\")\n",
    "\n",
    "ct.reset_turn()\n",
    "\n",
    "env = Environment(\"Jail of Jewels\")\n",
    "env.add_trait(\"Blood Money\", 6)\n",
    "env.add_trait(\"A Nice Night For A Curse\", 8, context={\"description\":\"The surroundings are specifically designed to be habitable for negative-energy aligned beings such as Luis, his uncle, and designed to be *not* habitable for Roan, Hecate, and other living humans.\"})\n",
    "env.add_trait(\"Sidescroller Traps\", 8)\n",
    "\n",
    "env2 = Environment(\"Michelle Gymnasium\")\n",
    "env2.add_trait(\"Please Keep Floors Clean\", 6, context={\"description\":\"Michelle's gymnasium is distressingly clean for something so viscerally visceral. Sweat is constantly mopped up, blood is erased in moments, and there are cleaning supplies stashed in every closet.\"})\n",
    "env2.add_trait(\"Fights Happen Anywhere...\", 6, context={\"description\":\"Michelle believes strongly that a metahuman combatant needs to be prepared for any place, any weather, and any situation. Tools to help her simulate these environments fill half the gymnasium.\"})\n",
    "env2.add_trait(\"...But Are Won Here\", 6, context={\"description\":\"In the end, one-on-one, there's not much you can do about someone who has fifty pounds on you and knows how to use them. That's why the other half of the gym is devoted to traditional (and expensive) fitness equipment specced for metahumans.\"})\n",
    "env2.add_trait(\"Terror Is Non-Negotiable\", 8, context={\"description\":\"Michelle Angelmark is acutely aware that at any time, she could kill any one person in the room with her. She is also acutely aware that the kids she has to teach aren't prepared to be in the room with someone who can. Thus, she plays up her terrifying murderous maid aspects to get them used to the idea.\"})\n",
    "\n",
    "\n",
    "env3 = Environment(\"Michelle's Gymnasium\")\n",
    "env3.add_trait(\"Please Keep Floors Clean\", 6, context={\"description\":\"Michelle's gymnasium is distressingly clean for something so viscerally visceral. Sweat is constantly mopped up, blood is erased in moments, and there are cleaning supplies stashed in every closet.\"})\n",
    "env3.add_trait(\"Fights Happen Anywhere...\", 6, context={\"description\":\"Michelle believes strongly that a metahuman combatant needs to be prepared for any place, any weather, and any situation. Tools to help her simulate these environments fill half the gymnasium.\"})\n",
    "env3.add_trait(\"...But Are Won Here\", 6, context={\"description\":\"In the end, one-on-one, there's not much you can do about someone who has fifty pounds on you and knows how to use them. That's why the other half of the gym is devoted to traditional (and expensive) fitness equipment specced for metahumans.\"})\n",
    "env3.add_trait(\"Terror Is Non-Negotiable\", 8, context={\"description\":\"Michelle Angelmark is acutely aware that at any time, she could kill any one person in the room with her. She is also acutely aware that the kids she has to teach aren't prepared to be in the room with someone who can. Thus, she plays up her terrifying murderous maid aspects to get them used to the idea.\"})\n",
    "\n",
    "p1 = Challenge(1, \"Get over or around the exterior wall\")\n",
    "p2 = Challenge(1, \"Enter the castle dungeons\")\n",
    "p3 = Challenge(1, \"Find Hecate\")\n",
    "p4 = Challenge(1, \"Get them free of the cell they're trapped in\")\n",
    "\n",
    "o1 = Objective(\"Rescue Hecate from Captivity\", [p1, p2, p3, p4], True)\n",
    "o1 = Objective(\"Rescue Hecate from Captivity\", [p1, p2, p3, p4], True)\n",
    "\n",
    "p5 = Challenge(3, \"???\")\n",
    "o2 = Objective(\"Get the Blessed Dirty Bomb Inside the vault before it explodes\", [p5], True)\n",
    "\n",
    "new_world.add_objective(o1)\n",
    "new_world.add_objective(o2)\n",
    "\n",
    "new_world.set_environment(env)\n",
    "new_world.add_environment(env2)\n",
    "new_world.add_environment(env3)"
   ]
  },
  {
   "cell_type": "code",
   "execution_count": 2,
   "metadata": {
    "scrolled": false
   },
   "outputs": [
    {
     "data": {
      "application/vnd.jupyter.widget-view+json": {
       "model_id": "1255159b7027471e9485787b8aa1406f",
       "version_major": 2,
       "version_minor": 0
      },
      "text/plain": [
       "ApplicationWindow(children=(SceneTrackerDisplay(children=(HTML(value='<style>div.component-header {\\n  font-we…"
      ]
     },
     "metadata": {},
     "output_type": "display_data"
    }
   ],
   "source": [
    "from Jupyter.UniversalDisplay.Application import SentinelApplication\n",
    "\n",
    "omega = SentinelApplication(new_world) \n",
    "omega.return_display()"
   ]
  },
  {
   "cell_type": "code",
   "execution_count": null,
   "metadata": {},
   "outputs": [],
   "source": [
    "omega.app_window.sed.single_displays[0].environment_table.get_selected_value()"
   ]
  },
  {
   "cell_type": "code",
   "execution_count": null,
   "metadata": {},
   "outputs": [],
   "source": [
    "omega.app_window.sed.single_displays[0].environment_table.clear_selected()"
   ]
  },
  {
   "cell_type": "code",
   "execution_count": null,
   "metadata": {},
   "outputs": [],
   "source": [
    "(252-9)/18"
   ]
  },
  {
   "cell_type": "code",
   "execution_count": null,
   "metadata": {},
   "outputs": [],
   "source": [
    "ct.hand_off(\"Luis Castile\")"
   ]
  },
  {
   "cell_type": "code",
   "execution_count": null,
   "metadata": {},
   "outputs": [],
   "source": [
    "et = ct.entity_tracker\n",
    "\n",
    "et"
   ]
  },
  {
   "cell_type": "code",
   "execution_count": null,
   "metadata": {},
   "outputs": [],
   "source": [
    "et[2].entity"
   ]
  },
  {
   "cell_type": "code",
   "execution_count": null,
   "metadata": {},
   "outputs": [],
   "source": [
    "e = et[3].entity"
   ]
  },
  {
   "cell_type": "code",
   "execution_count": null,
   "metadata": {},
   "outputs": [],
   "source": [
    "ct.hand_off(c)"
   ]
  },
  {
   "cell_type": "code",
   "execution_count": null,
   "metadata": {},
   "outputs": [],
   "source": [
    "(r, l, c, e)"
   ]
  },
  {
   "cell_type": "code",
   "execution_count": null,
   "metadata": {},
   "outputs": [],
   "source": [
    "e1 = Lieutenant (\"Marquardus de Camino\", Dice(6))\n",
    "ct.add_entity(e1)"
   ]
  },
  {
   "cell_type": "code",
   "execution_count": null,
   "metadata": {},
   "outputs": [],
   "source": [
    "p3+1"
   ]
  },
  {
   "cell_type": "code",
   "execution_count": null,
   "metadata": {},
   "outputs": [],
   "source": [
    "o1 = Objective(\"Rescue Hecate from Captivity\", [p1, p2, p3, p4], True)"
   ]
  },
  {
   "cell_type": "code",
   "execution_count": null,
   "metadata": {},
   "outputs": [],
   "source": [
    "ct.hand_off(e)"
   ]
  },
  {
   "cell_type": "code",
   "execution_count": null,
   "metadata": {},
   "outputs": [],
   "source": [
    "ct.hand_off(l)"
   ]
  },
  {
   "cell_type": "code",
   "execution_count": null,
   "metadata": {},
   "outputs": [],
   "source": [
    "ct.remove_entity(e1)"
   ]
  },
  {
   "cell_type": "code",
   "execution_count": null,
   "metadata": {},
   "outputs": [],
   "source": [
    "ct.hand_off(r)"
   ]
  },
  {
   "cell_type": "code",
   "execution_count": null,
   "metadata": {},
   "outputs": [],
   "source": [
    "ct.hand_off(c)"
   ]
  },
  {
   "cell_type": "code",
   "execution_count": null,
   "metadata": {},
   "outputs": [],
   "source": [
    "sp1 = Challenge(1, \"Destroy or lift the portculli\")\n",
    "so1 = Objective(\"Circumvent the portcullis traps!\", [sp1], False)\n",
    "alt_world.add_objective(so1)"
   ]
  },
  {
   "cell_type": "code",
   "execution_count": null,
   "metadata": {},
   "outputs": [],
   "source": [
    "alt_world.challenge_list"
   ]
  },
  {
   "cell_type": "code",
   "execution_count": null,
   "metadata": {},
   "outputs": [],
   "source": [
    "new_world.inc_scene_tracker()"
   ]
  },
  {
   "cell_type": "code",
   "execution_count": null,
   "metadata": {},
   "outputs": [],
   "source": [
    "omega.recieve_message(\"Delta\")"
   ]
  },
  {
   "cell_type": "code",
   "execution_count": null,
   "metadata": {},
   "outputs": [],
   "source": [
    "[\"\"*4]"
   ]
  },
  {
   "cell_type": "code",
   "execution_count": null,
   "metadata": {},
   "outputs": [],
   "source": [
    "[\"\"]*4"
   ]
  },
  {
   "cell_type": "code",
   "execution_count": null,
   "metadata": {
    "scrolled": false
   },
   "outputs": [],
   "source": [
    "import ipywidgets as widgets\n",
    "int_range = widgets.IntSlider()\n",
    "output2 = widgets.Output()\n",
    "\n",
    "display(int_range, output2)\n",
    "\n",
    "def on_value_change(change):\n",
    "    with output2:\n",
    "        print(change['new'])\n",
    "\n",
    "int_range.observe(on_value_change, names='value')"
   ]
  },
  {
   "cell_type": "code",
   "execution_count": null,
   "metadata": {},
   "outputs": [],
   "source": []
  }
 ],
 "metadata": {
  "kernelspec": {
   "display_name": "Python 3",
   "language": "python",
   "name": "python3"
  },
  "language_info": {
   "codemirror_mode": {
    "name": "ipython",
    "version": 3
   },
   "file_extension": ".py",
   "mimetype": "text/x-python",
   "name": "python",
   "nbconvert_exporter": "python",
   "pygments_lexer": "ipython3",
   "version": "3.7.0"
  }
 },
 "nbformat": 4,
 "nbformat_minor": 4
}
